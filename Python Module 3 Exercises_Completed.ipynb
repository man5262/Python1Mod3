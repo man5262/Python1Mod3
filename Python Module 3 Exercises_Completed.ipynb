{
 "cells": [
  {
   "cell_type": "markdown",
   "metadata": {},
   "source": [
    "Exercise 1. Ask for a color and store that answer. \n",
    "If the answer is grey then print out you found Victor's favorite color.\n",
    "Otherwise print out the color is not Victor's favorite color."
   ]
  },
  {
   "cell_type": "code",
   "execution_count": 11,
   "metadata": {},
   "outputs": [
    {
     "name": "stdout",
     "output_type": "stream",
     "text": [
      "Please enter a color: GREY\n",
      "Grey is Victor's favorite color\n"
     ]
    }
   ],
   "source": [
    "color1 = input(\"Please enter a color: \")\n",
    "if (color1.lower() == \"grey\"):\n",
    "    print(f\"{color1.title()} is Victor's favorite color\")\n",
    "else:\n",
    "    print(f\"{color1.title()} is not Victor's favorite color\")"
   ]
  },
  {
   "cell_type": "markdown",
   "metadata": {},
   "source": [
    "Exercise 2. Modify code from above exercise 1 and add in more conditions for other colors such as red, green, blue and then, write statements for them. "
   ]
  },
  {
   "cell_type": "code",
   "execution_count": 26,
   "metadata": {},
   "outputs": [
    {
     "name": "stdout",
     "output_type": "stream",
     "text": [
      "Please enter a color: black\n",
      "Black is not Victor's favorite color\n"
     ]
    }
   ],
   "source": [
    "color1 = input(\"Please enter a color: \").lower()\n",
    "if (color1 == \"grey\"):\n",
    "    print(f\"{color1.title()} is Victor's favorite color\")\n",
    "elif (color1 == \"red\"):\n",
    "    print(f\"Mars is also called a '{color1.title()} Planet'\")\n",
    "elif (color1 == \"green\"):\n",
    "    print(f\"Sandra likes {color1} apples\")\n",
    "elif (color1 == \"blue\"):\n",
    "    print(f\"Tommy wears a {color1} shirt\")        \n",
    "else:\n",
    "    print(f\"{color1.title()} is not Victor's favorite color\")"
   ]
  },
  {
   "cell_type": "raw",
   "metadata": {},
   "source": [
    "Exercise 3. Ask for an exam score and store that number. If the number is greater than 100, then print out 'You cannot have an exam score higher than 100'. If the number doesn't exceeed 100 but is greater than or equal to 75, then print out 'You did great on your exam!'. Otherwise if they scored lower than 75, then print out 'You need to study harder'."
   ]
  },
  {
   "cell_type": "code",
   "execution_count": 33,
   "metadata": {},
   "outputs": [
    {
     "name": "stdout",
     "output_type": "stream",
     "text": [
      "Please enter an exam score: 74\n",
      "You need to study harder\n"
     ]
    }
   ],
   "source": [
    "score1 = int(input(\"Please enter an exam score: \"))\n",
    "if (score1 > 100):\n",
    "    print('You cannot have an exam score higher than 100')\n",
    "elif (score1 >= 75):\n",
    "    print('You did great on your exam!')\n",
    "else:\n",
    "    print('You need to study harder')"
   ]
  },
  {
   "cell_type": "markdown",
   "metadata": {},
   "source": [
    "Exercise 4. \n",
    "Define two functions: \n",
    "    - a function that takes 3 arguements and returns the sum of three arguements\n",
    "    - a function that takes 2 arguements and returns the result of 1st arguement multiplied by 2nd arguement\n",
    "\n",
    "Then tell the user to choose option 1 to add three numbers or option 2 to multiply two numbers.\n",
    "If the user choose option 1 then call the addition function, otherwise if they choose option 2 then call the mulitplication function.  If the user choose anything other than option 1 or 2, then generate a friendly error messsage"
   ]
  },
  {
   "cell_type": "code",
   "execution_count": 49,
   "metadata": {},
   "outputs": [
    {
     "name": "stdout",
     "output_type": "stream",
     "text": [
      "Please select an option:\n",
      "1 - to add 3 numbers or\n",
      "2 - to multiply 2 numbers\n",
      "1\n",
      "Please enter 1st number: 45\n",
      "Please enter 2nd number: 78\n",
      "Please enter 3rd number: 32\n",
      "The result is 155\n"
     ]
    }
   ],
   "source": [
    "# Function to add 3 numbers\n",
    "def sum3(num1, num2, num3):\n",
    "    return(num1 + num2 + num3)\n",
    "\n",
    "# Function to multiply 2 numbers\n",
    "def mult2 (n1, n2):\n",
    "    return(n1 * n2)\n",
    "\n",
    "option = input(\"Please select an option:\\n1 - to add 3 numbers or\\n2 - to multiply 2 numbers\\n\")\n",
    "if (option == '1'):\n",
    "    num1 = int(input(\"Please enter 1st number: \"))\n",
    "    num2 = int(input(\"Please enter 2nd number: \"))\n",
    "    num3 = int(input(\"Please enter 3rd number: \"))\n",
    "    print(f\"The result is {sum3(num1, num2, num3)}\")\n",
    "elif (option == '2'):\n",
    "    num1 = int(input(\"Please enter 1st number: \"))\n",
    "    num2 = int(input(\"Please enter 2nd number: \"))\n",
    "    print(f\"The result is {mult2(num1, num2)}\")\n",
    "else:\n",
    "    print(f\"Sorry, '{option}' is not a valid option. Please try again later.\")\n"
   ]
  },
  {
   "cell_type": "markdown",
   "metadata": {},
   "source": [
    "Exercise 5. \n",
    "Write a function to convert a test score to a grade where  \n",
    " - 90 - 100: A\n",
    " - 80 - 89:  B\n",
    " - 70 - 79:  C\n",
    " - 60 - 69:  D\n",
    " - < 60   :  F\n",
    " \n",
    "If a score is not between 0 and 100 then print out an error message. In the program, ask the user for a score and then call your function. "
   ]
  },
  {
   "cell_type": "code",
   "execution_count": 57,
   "metadata": {},
   "outputs": [
    {
     "name": "stdout",
     "output_type": "stream",
     "text": [
      "Please enter your exam score: 79\n",
      "Your grade is: C\n"
     ]
    }
   ],
   "source": [
    "def score_to_grade(score):\n",
    "    if (score >= 90 and score <= 100):\n",
    "        grade = 'A'\n",
    "    elif (score >= 80):\n",
    "        grade = 'B'\n",
    "    elif (score >= 70):\n",
    "        grade = 'C'\n",
    "    elif (score >= 60):\n",
    "        grade = 'D'\n",
    "    elif (score >= 0):\n",
    "        grade = 'F'\n",
    "    return (grade)\n",
    "    \n",
    "score1 = int(input(\"Please enter your exam score: \"))\n",
    "if score1 >=0 and score1 <=100:\n",
    "    print(f\"Your grade is: {score_to_grade(score1)}\")\n",
    "else:\n",
    "    print(f\"'{score1}' is invalid value.\")"
   ]
  },
  {
   "cell_type": "markdown",
   "metadata": {},
   "source": [
    "Exercise 6. Write a program to compute discounts for customers.  \n",
    "- For retail customers, \n",
    "    - if invoice total is greater than \\$100 then discount rate is 10\\%, otherwise no discount \n",
    "\n",
    "- For wholesale customers,\n",
    "    - if invoice total is greater than \\$500 then discount rate is 30\\%, otherwise discount rate is 20\\%\n",
    "    \n",
    "Get the type of customer and the invoice total from the user."
   ]
  },
  {
   "cell_type": "code",
   "execution_count": 70,
   "metadata": {},
   "outputs": [
    {
     "name": "stdout",
     "output_type": "stream",
     "text": [
      "Please enter your invoice total: 540\n",
      "Please enter:\n",
      "1 - if you are a retail customer or\n",
      "2 - if you are a wholesale customer: t\n",
      "Sorry, 't' is invalid option.\n"
     ]
    }
   ],
   "source": [
    "total = int(input(\"Please enter your invoice total: \"))\n",
    "customer_type = input(\"Please enter:\\n1 - if you are a retail customer or\\n2 - if you are a wholesale customer: \")\n",
    "discount = 0\n",
    "discount_rate = 0\n",
    "valid_option = True\n",
    "if (customer_type == '1'):\n",
    "    if (total >= 100):\n",
    "        discount_rate = .1\n",
    "elif (customer_type == '2'):\n",
    "    if (total >= 500):\n",
    "        discount_rate = .2\n",
    "else:\n",
    "    valid_option = False\n",
    "if not valid_option:\n",
    "    print(f\"Sorry, '{customer_type}' is invalid option.\")\n",
    "else:\n",
    "    discount = total * discount_rate\n",
    "    print(f\"Invoice amount: {total}\\nDiscount:\\t{discount}\\nYour payment:\\t{total - discount}\")\n"
   ]
  },
  {
   "cell_type": "markdown",
   "metadata": {},
   "source": [
    "Exercise 7: Write a function that accepts two parameters (a and b) and returns a result of a/b.  In this function, try to catch any exception error.  Then, write a program to get two numbers from a user, call your function using these two numbers, and print out the result in a friendly format.  All input and print statements must be done in the main program. Repeat the process until user wants to quit the program. "
   ]
  },
  {
   "cell_type": "code",
   "execution_count": 84,
   "metadata": {},
   "outputs": [
    {
     "name": "stdout",
     "output_type": "stream",
     "text": [
      "Please enter the first number: 360\n",
      "Please enter the second number: 45\n",
      "360 / 45 = 8.0\n",
      "If you'd like to try again please enter 'y' y\n",
      "Please enter the first number: 128\n",
      "Please enter the second number: 0\n",
      "The pair of values 128 and 0 cannot be used in Mathematical Division \n",
      "If you'd like to try again please enter 'y' y\n",
      "Please enter the first number: 12\n",
      "Please enter the second number: r\n",
      "The pair of values 12 and r cannot be used in Mathematical Division \n",
      "If you'd like to try again please enter 'y' y\n",
      "Please enter the first number: 45\n",
      "Please enter the second number: 3\n",
      "45 / 3 = 15.0\n",
      "If you'd like to try again please enter 'y' n\n"
     ]
    }
   ],
   "source": [
    "def division(num1, num2):\n",
    "    try:\n",
    "        result = float(num1) / float(num2)\n",
    "    except:\n",
    "        result = False\n",
    "    return result\n",
    "\n",
    "choice = 'y'\n",
    "while choice == 'y':\n",
    "    n1 = input(\"Please enter the first number: \")\n",
    "    n2 = input(\"Please enter the second number: \")\n",
    "    res = division(n1, n2)\n",
    "    if res:\n",
    "        print(f\"{n1} / {n2} = {res}\")\n",
    "    else:\n",
    "        print(f\"The pair of values {n1} and {n2} cannot be used in Mathematical Division \")\n",
    "    choice = input(\"If you'd like to try again please enter 'y' \").lower()\n",
    "    "
   ]
  },
  {
   "cell_type": "markdown",
   "metadata": {},
   "source": []
  },
  {
   "cell_type": "markdown",
   "metadata": {},
   "source": [
    "Exercise 8: Write a function to generate a multiplication table. Then write a program to ask a user if user wants to generate a  mutiplication table for a random number or provide a number. The program should continue to run until a user wants to quit."
   ]
  },
  {
   "cell_type": "code",
   "execution_count": 94,
   "metadata": {},
   "outputs": [
    {
     "name": "stdout",
     "output_type": "stream",
     "text": [
      "This program generates a multiplication table for a single-digit number.\n",
      "Would you like to provide a number? (enter 'y' for 'Yes' or any other key - for 'No')y\n",
      "Please enter a number: t\n",
      "t cannot be converted to integer type\n",
      "If you'd like to try again please enter 'y' y\n",
      "Would you like to provide a number? (enter 'y' for 'Yes' or any other key - for 'No')y\n",
      "Please enter a number: 7\n",
      "7 X 1 = 7\n",
      "7 X 2 = 14\n",
      "7 X 3 = 21\n",
      "7 X 4 = 28\n",
      "7 X 5 = 35\n",
      "7 X 6 = 42\n",
      "7 X 7 = 49\n",
      "7 X 8 = 56\n",
      "7 X 9 = 63\n",
      "If you'd like to try again please enter 'y' y\n",
      "Would you like to provide a number? (enter 'y' for 'Yes' or any other key - for 'No')h\n",
      "3 X 1 = 3\n",
      "3 X 2 = 6\n",
      "3 X 3 = 9\n",
      "3 X 4 = 12\n",
      "3 X 5 = 15\n",
      "3 X 6 = 18\n",
      "3 X 7 = 21\n",
      "3 X 8 = 24\n",
      "3 X 9 = 27\n",
      "If you'd like to try again please enter 'y' y\n",
      "Would you like to provide a number? (enter 'y' for 'Yes' or any other key - for 'No')y\n",
      "Please enter a number: 9\n",
      "9 X 1 = 9\n",
      "9 X 2 = 18\n",
      "9 X 3 = 27\n",
      "9 X 4 = 36\n",
      "9 X 5 = 45\n",
      "9 X 6 = 54\n",
      "9 X 7 = 63\n",
      "9 X 8 = 72\n",
      "9 X 9 = 81\n",
      "If you'd like to try again please enter 'y' n\n"
     ]
    }
   ],
   "source": [
    "import random as rand\n",
    "\n",
    "def multiplication_table(num):\n",
    "    i = 1\n",
    "    while i <= 9:\n",
    "        print(f\"{num} X {i} = {num * i}\")\n",
    "        i += 1\n",
    "\n",
    "repeat1 = 'y'\n",
    "print(\"This program generates a multiplication table for a single-digit number.\")\n",
    "while repeat1 == 'y':\n",
    "    err = False\n",
    "    choice = input(\"Would you like to provide a number? (enter 'y' for 'Yes' or any other key - for 'No') \")\n",
    "    if choice.lower() == 'y':\n",
    "        number = input(\"Please enter a number: \")\n",
    "        try:\n",
    "            number = int(number)\n",
    "        except:\n",
    "            print(f\"{number} cannot be converted to integer type\")\n",
    "            err = True\n",
    "    else:\n",
    "        number = rand.randint(2, 9)\n",
    "    if not (err):\n",
    "        multiplication_table(number)\n",
    "        \n",
    "    repeat1 = input(\"If you'd like to try again please enter 'y' \").lower()\n"
   ]
  },
  {
   "cell_type": "code",
   "execution_count": null,
   "metadata": {},
   "outputs": [],
   "source": []
  },
  {
   "cell_type": "markdown",
   "metadata": {},
   "source": [
    "Exercise 9: Write a function to draw a right-triangle using a number as a character.Then, write a program to generate a random number between 1 and 9, call your function with that random number.  The output should look something like this:\n",
    "\n",
    "        base: 5\n",
    "        5\n",
    "        55\n",
    "        555\n",
    "        5555\n",
    "        55555\n",
    "\n",
    "\n",
    "        base: 8\n",
    "        8\n",
    "        88\n",
    "        888\n",
    "        8888\n",
    "        88888\n",
    "        888888\n",
    "        8888888\n",
    "        88888888"
   ]
  },
  {
   "cell_type": "code",
   "execution_count": 118,
   "metadata": {},
   "outputs": [
    {
     "name": "stdout",
     "output_type": "stream",
     "text": [
      "base: 4\n",
      "4\n",
      "44\n",
      "444\n",
      "4444\n"
     ]
    }
   ],
   "source": [
    "import random as rand\n",
    "\n",
    "def right_triangle(num):\n",
    "    num_str = str(num)\n",
    "    i = 1\n",
    "    while i <= num:\n",
    "        print(num_str * i)\n",
    "        i += 1\n",
    "\n",
    "number = rand.randint(1, 9)\n",
    "print(f\"base: {number}\")\n",
    "right_triangle(number)"
   ]
  },
  {
   "cell_type": "code",
   "execution_count": null,
   "metadata": {},
   "outputs": [],
   "source": []
  },
  {
   "cell_type": "markdown",
   "metadata": {},
   "source": [
    "Exercise 10: Modify function from exercise 9 to show output like this:\n",
    "\n",
    "        base: 5\n",
    "            5\n",
    "           55\n",
    "          555\n",
    "         5555 \n",
    "        55555\n",
    "        \n",
    "        base: 8\n",
    "               8\n",
    "              88\n",
    "             888\n",
    "            8888\n",
    "           88888\n",
    "          888888\n",
    "         8888888\n",
    "        88888888 "
   ]
  },
  {
   "cell_type": "code",
   "execution_count": 126,
   "metadata": {},
   "outputs": [
    {
     "name": "stdout",
     "output_type": "stream",
     "text": [
      "base: 5\n",
      "    5\n",
      "   55\n",
      "  555\n",
      " 5555\n",
      "55555\n"
     ]
    }
   ],
   "source": [
    "import random as rand\n",
    "\n",
    "def right_triangle(num):\n",
    "    num_str = str(num)\n",
    "    i = 1\n",
    "    while i <= num:\n",
    "        print(\" \" * (num - i) + num_str * i)\n",
    "        i += 1\n",
    "\n",
    "number = rand.randint(1, 9)\n",
    "print(f\"base: {number}\")\n",
    "right_triangle(number)"
   ]
  },
  {
   "cell_type": "code",
   "execution_count": null,
   "metadata": {},
   "outputs": [],
   "source": []
  }
 ],
 "metadata": {
  "kernelspec": {
   "display_name": "Python 3",
   "language": "python",
   "name": "python3"
  },
  "language_info": {
   "codemirror_mode": {
    "name": "ipython",
    "version": 3
   },
   "file_extension": ".py",
   "mimetype": "text/x-python",
   "name": "python",
   "nbconvert_exporter": "python",
   "pygments_lexer": "ipython3",
   "version": "3.8.8"
  }
 },
 "nbformat": 4,
 "nbformat_minor": 4
}
